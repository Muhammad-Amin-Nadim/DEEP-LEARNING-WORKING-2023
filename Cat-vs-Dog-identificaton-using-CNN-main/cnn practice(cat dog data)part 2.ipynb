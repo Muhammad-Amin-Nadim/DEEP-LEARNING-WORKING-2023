{
 "cells": [
  {
   "cell_type": "code",
   "execution_count": 1,
   "metadata": {},
   "outputs": [],
   "source": [
    "import pickle\n",
    "from keras.preprocessing.image import ImageDataGenerator"
   ]
  },
  {
   "cell_type": "code",
   "execution_count": 2,
   "metadata": {},
   "outputs": [],
   "source": [
    "x=pickle.load(open('feature.pkl','rb'))"
   ]
  },
  {
   "cell_type": "code",
   "execution_count": 3,
   "metadata": {},
   "outputs": [],
   "source": [
    "y=pickle.load(open('lebel.pkl','rb'))"
   ]
  },
  {
   "cell_type": "code",
   "execution_count": 4,
   "metadata": {},
   "outputs": [
    {
     "data": {
      "text/plain": [
       "array([[[[ 59,  49,  92],\n",
       "         [ 87,  81, 105],\n",
       "         [162, 162, 157],\n",
       "         ...,\n",
       "         [124, 124, 129],\n",
       "         [123, 120, 126],\n",
       "         [108, 103, 108]],\n",
       "\n",
       "        [[ 59,  50,  98],\n",
       "         [ 72,  67,  95],\n",
       "         [153, 153, 153],\n",
       "         ...,\n",
       "         [125, 124, 130],\n",
       "         [115, 112, 118],\n",
       "         [111, 105, 110]],\n",
       "\n",
       "        [[ 57,  50, 103],\n",
       "         [ 60,  56,  91],\n",
       "         [134, 133, 142],\n",
       "         ...,\n",
       "         [126, 123, 129],\n",
       "         [112, 108, 114],\n",
       "         [115, 109, 114]],\n",
       "\n",
       "        ...,\n",
       "\n",
       "        [[ 88,  79,  76],\n",
       "         [ 88,  74,  69],\n",
       "         [ 94,  73,  65],\n",
       "         ...,\n",
       "         [110,  74,  63],\n",
       "         [ 91,  60,  49],\n",
       "         [ 98,  69,  58]],\n",
       "\n",
       "        [[ 66,  56,  52],\n",
       "         [ 73,  58,  52],\n",
       "         [ 88,  66,  57],\n",
       "         ...,\n",
       "         [112,  71,  58],\n",
       "         [ 97,  59,  46],\n",
       "         [105,  69,  55]],\n",
       "\n",
       "        [[ 71,  59,  54],\n",
       "         [ 73,  57,  50],\n",
       "         [ 79,  56,  46],\n",
       "         ...,\n",
       "         [113,  69,  52],\n",
       "         [107,  65,  48],\n",
       "         [114,  74,  57]]],\n",
       "\n",
       "\n",
       "       [[[ 96,  96, 109],\n",
       "         [ 98,  98, 110],\n",
       "         [ 99,  99, 111],\n",
       "         ...,\n",
       "         [ 87, 180, 179],\n",
       "         [ 70, 187, 172],\n",
       "         [ 66, 183, 168]],\n",
       "\n",
       "        [[ 94,  94, 107],\n",
       "         [ 96,  96, 108],\n",
       "         [ 90,  90, 102],\n",
       "         ...,\n",
       "         [ 99, 161, 161],\n",
       "         [ 46, 119, 117],\n",
       "         [ 50, 123, 121]],\n",
       "\n",
       "        [[ 93,  93, 105],\n",
       "         [ 91,  91, 103],\n",
       "         [ 92,  92, 104],\n",
       "         ...,\n",
       "         [ 56, 102, 103],\n",
       "         [ 61,  98, 107],\n",
       "         [ 85, 121, 131]],\n",
       "\n",
       "        ...,\n",
       "\n",
       "        [[ 92, 137, 142],\n",
       "         [ 88, 110, 114],\n",
       "         [136, 198, 187],\n",
       "         ...,\n",
       "         [ 53, 100,  88],\n",
       "         [ 44,  82,  76],\n",
       "         [ 67, 113, 106]],\n",
       "\n",
       "        [[  3,  52,  53],\n",
       "         [ 90, 142, 137],\n",
       "         [  9, 115,  92],\n",
       "         ...,\n",
       "         [ 32,  77,  65],\n",
       "         [ 81, 120, 109],\n",
       "         [ 24,  72,  59]],\n",
       "\n",
       "        [[ 74, 141, 136],\n",
       "         [  0, 147, 114],\n",
       "         [  9, 169, 129],\n",
       "         ...,\n",
       "         [ 23,  78,  59],\n",
       "         [ 42,  97,  80],\n",
       "         [ 24,  69,  61]]],\n",
       "\n",
       "\n",
       "       [[[ 78,  77,  73],\n",
       "         [ 78,  77,  73],\n",
       "         [ 76,  75,  71],\n",
       "         ...,\n",
       "         [102, 119, 128],\n",
       "         [100, 117, 126],\n",
       "         [ 98, 113, 122]],\n",
       "\n",
       "        [[ 78,  77,  73],\n",
       "         [ 78,  77,  73],\n",
       "         [ 76,  75,  71],\n",
       "         ...,\n",
       "         [105, 122, 131],\n",
       "         [103, 120, 129],\n",
       "         [102, 117, 126]],\n",
       "\n",
       "        [[ 78,  77,  73],\n",
       "         [ 78,  77,  73],\n",
       "         [ 78,  77,  73],\n",
       "         ...,\n",
       "         [107, 124, 133],\n",
       "         [105, 121, 131],\n",
       "         [104, 119, 128]],\n",
       "\n",
       "        ...,\n",
       "\n",
       "        [[178,  93,  47],\n",
       "         [187,  98,  54],\n",
       "         [184,  90,  47],\n",
       "         ...,\n",
       "         [201, 199, 205],\n",
       "         [203, 201, 207],\n",
       "         [193, 194, 204]],\n",
       "\n",
       "        [[177,  91,  44],\n",
       "         [188, 103,  65],\n",
       "         [189,  97,  54],\n",
       "         ...,\n",
       "         [224, 217, 222],\n",
       "         [216, 211, 220],\n",
       "         [203, 201, 213]],\n",
       "\n",
       "        [[174,  88,  42],\n",
       "         [178,  93,  55],\n",
       "         [182,  90,  47],\n",
       "         ...,\n",
       "         [223, 216, 221],\n",
       "         [218, 213, 222],\n",
       "         [206, 204, 216]]],\n",
       "\n",
       "\n",
       "       ...,\n",
       "\n",
       "\n",
       "       [[[ 59,  78,  88],\n",
       "         [ 42,  57,  61],\n",
       "         [ 25,  35,  34],\n",
       "         ...,\n",
       "         [195, 186, 186],\n",
       "         [190, 179, 181],\n",
       "         [191, 177, 181]],\n",
       "\n",
       "        [[ 56,  74,  88],\n",
       "         [ 42,  58,  65],\n",
       "         [ 25,  37,  39],\n",
       "         ...,\n",
       "         [192, 187, 186],\n",
       "         [190, 184, 185],\n",
       "         [191, 181, 185]],\n",
       "\n",
       "        [[ 55,  78,  95],\n",
       "         [ 62,  80,  91],\n",
       "         [ 31,  45,  51],\n",
       "         ...,\n",
       "         [187, 185, 184],\n",
       "         [171, 169, 169],\n",
       "         [187, 185, 187]],\n",
       "\n",
       "        ...,\n",
       "\n",
       "        [[ 77,  90, 104],\n",
       "         [ 71,  84,  98],\n",
       "         [ 69,  82,  96],\n",
       "         ...,\n",
       "         [171, 182, 180],\n",
       "         [174, 187, 186],\n",
       "         [159, 174, 172]],\n",
       "\n",
       "        [[ 77,  90, 104],\n",
       "         [ 72,  84,  99],\n",
       "         [ 69,  83,  97],\n",
       "         ...,\n",
       "         [181, 189, 188],\n",
       "         [173, 184, 182],\n",
       "         [170, 183, 181]],\n",
       "\n",
       "        [[ 81,  94, 108],\n",
       "         [ 75,  88, 102],\n",
       "         [ 73,  86, 100],\n",
       "         ...,\n",
       "         [166, 171, 169],\n",
       "         [183, 190, 187],\n",
       "         [175, 184, 181]]],\n",
       "\n",
       "\n",
       "       [[[ 29,  28,  30],\n",
       "         [ 24,  23,  25],\n",
       "         [ 21,  20,  22],\n",
       "         ...,\n",
       "         [ 41,  45,  40],\n",
       "         [ 38,  42,  37],\n",
       "         [ 41,  45,  40]],\n",
       "\n",
       "        [[ 20,  19,  21],\n",
       "         [ 19,  18,  20],\n",
       "         [ 20,  19,  21],\n",
       "         ...,\n",
       "         [ 41,  38,  34],\n",
       "         [ 41,  38,  34],\n",
       "         [ 48,  45,  41]],\n",
       "\n",
       "        [[ 24,  23,  25],\n",
       "         [ 21,  20,  22],\n",
       "         [ 20,  19,  21],\n",
       "         ...,\n",
       "         [ 47,  40,  37],\n",
       "         [ 46,  39,  36],\n",
       "         [ 50,  43,  40]],\n",
       "\n",
       "        ...,\n",
       "\n",
       "        [[ 78,  85, 102],\n",
       "         [ 50,  54,  72],\n",
       "         [ 77,  79,  97],\n",
       "         ...,\n",
       "         [ 98,  91,  88],\n",
       "         [108, 104, 101],\n",
       "         [ 96,  95,  91]],\n",
       "\n",
       "        [[  9,  16,  31],\n",
       "         [ 30,  35,  50],\n",
       "         [ 66,  69,  84],\n",
       "         ...,\n",
       "         [160, 174, 180],\n",
       "         [161, 178, 181],\n",
       "         [164, 185, 187]],\n",
       "\n",
       "        [[ 25,  33,  46],\n",
       "         [ 21,  27,  40],\n",
       "         [ 34,  37,  51],\n",
       "         ...,\n",
       "         [168, 195, 205],\n",
       "         [165, 196, 201],\n",
       "         [161, 196, 199]]],\n",
       "\n",
       "\n",
       "       [[[ 51, 117,  88],\n",
       "         [ 73, 137, 107],\n",
       "         [ 20,  84,  52],\n",
       "         ...,\n",
       "         [ 35,  91,  80],\n",
       "         [ 53, 104,  94],\n",
       "         [ 83, 132, 134]],\n",
       "\n",
       "        [[ 58, 124, 101],\n",
       "         [ 58, 115,  89],\n",
       "         [ 25,  73,  45],\n",
       "         ...,\n",
       "         [ 44, 102,  91],\n",
       "         [ 48, 110,  98],\n",
       "         [ 31,  72,  64]],\n",
       "\n",
       "        [[ 39, 101,  88],\n",
       "         [ 29,  82,  63],\n",
       "         [ 40,  82,  57],\n",
       "         ...,\n",
       "         [ 41,  97,  86],\n",
       "         [ 43, 106,  94],\n",
       "         [100, 135, 126]],\n",
       "\n",
       "        ...,\n",
       "\n",
       "        [[ 30,  90,  81],\n",
       "         [ 61, 120, 111],\n",
       "         [ 74, 131, 122],\n",
       "         ...,\n",
       "         [ 68,  97, 103],\n",
       "         [ 65,  90,  93],\n",
       "         [ 68,  98, 106]],\n",
       "\n",
       "        [[ 23,  80,  74],\n",
       "         [ 38,  97,  89],\n",
       "         [ 48, 105,  97],\n",
       "         ...,\n",
       "         [ 81, 112, 112],\n",
       "         [125, 146, 145],\n",
       "         [ 82, 108, 112]],\n",
       "\n",
       "        [[ 37,  81,  74],\n",
       "         [ 25,  84,  76],\n",
       "         [ 27,  86,  82],\n",
       "         ...,\n",
       "         [ 81, 115, 104],\n",
       "         [138, 151, 159],\n",
       "         [ 97, 114, 117]]]], dtype=uint8)"
      ]
     },
     "execution_count": 4,
     "metadata": {},
     "output_type": "execute_result"
    }
   ],
   "source": [
    "x"
   ]
  },
  {
   "cell_type": "code",
   "execution_count": 5,
   "metadata": {},
   "outputs": [],
   "source": [
    "x=x/255 #feature scaling for running model in a faster way"
   ]
  },
  {
   "cell_type": "code",
   "execution_count": 6,
   "metadata": {},
   "outputs": [
    {
     "data": {
      "text/plain": [
       "array([[[[0.23137255, 0.19215686, 0.36078431],\n",
       "         [0.34117647, 0.31764706, 0.41176471],\n",
       "         [0.63529412, 0.63529412, 0.61568627],\n",
       "         ...,\n",
       "         [0.48627451, 0.48627451, 0.50588235],\n",
       "         [0.48235294, 0.47058824, 0.49411765],\n",
       "         [0.42352941, 0.40392157, 0.42352941]],\n",
       "\n",
       "        [[0.23137255, 0.19607843, 0.38431373],\n",
       "         [0.28235294, 0.2627451 , 0.37254902],\n",
       "         [0.6       , 0.6       , 0.6       ],\n",
       "         ...,\n",
       "         [0.49019608, 0.48627451, 0.50980392],\n",
       "         [0.45098039, 0.43921569, 0.4627451 ],\n",
       "         [0.43529412, 0.41176471, 0.43137255]],\n",
       "\n",
       "        [[0.22352941, 0.19607843, 0.40392157],\n",
       "         [0.23529412, 0.21960784, 0.35686275],\n",
       "         [0.5254902 , 0.52156863, 0.55686275],\n",
       "         ...,\n",
       "         [0.49411765, 0.48235294, 0.50588235],\n",
       "         [0.43921569, 0.42352941, 0.44705882],\n",
       "         [0.45098039, 0.42745098, 0.44705882]],\n",
       "\n",
       "        ...,\n",
       "\n",
       "        [[0.34509804, 0.30980392, 0.29803922],\n",
       "         [0.34509804, 0.29019608, 0.27058824],\n",
       "         [0.36862745, 0.28627451, 0.25490196],\n",
       "         ...,\n",
       "         [0.43137255, 0.29019608, 0.24705882],\n",
       "         [0.35686275, 0.23529412, 0.19215686],\n",
       "         [0.38431373, 0.27058824, 0.22745098]],\n",
       "\n",
       "        [[0.25882353, 0.21960784, 0.20392157],\n",
       "         [0.28627451, 0.22745098, 0.20392157],\n",
       "         [0.34509804, 0.25882353, 0.22352941],\n",
       "         ...,\n",
       "         [0.43921569, 0.27843137, 0.22745098],\n",
       "         [0.38039216, 0.23137255, 0.18039216],\n",
       "         [0.41176471, 0.27058824, 0.21568627]],\n",
       "\n",
       "        [[0.27843137, 0.23137255, 0.21176471],\n",
       "         [0.28627451, 0.22352941, 0.19607843],\n",
       "         [0.30980392, 0.21960784, 0.18039216],\n",
       "         ...,\n",
       "         [0.44313725, 0.27058824, 0.20392157],\n",
       "         [0.41960784, 0.25490196, 0.18823529],\n",
       "         [0.44705882, 0.29019608, 0.22352941]]],\n",
       "\n",
       "\n",
       "       [[[0.37647059, 0.37647059, 0.42745098],\n",
       "         [0.38431373, 0.38431373, 0.43137255],\n",
       "         [0.38823529, 0.38823529, 0.43529412],\n",
       "         ...,\n",
       "         [0.34117647, 0.70588235, 0.70196078],\n",
       "         [0.2745098 , 0.73333333, 0.6745098 ],\n",
       "         [0.25882353, 0.71764706, 0.65882353]],\n",
       "\n",
       "        [[0.36862745, 0.36862745, 0.41960784],\n",
       "         [0.37647059, 0.37647059, 0.42352941],\n",
       "         [0.35294118, 0.35294118, 0.4       ],\n",
       "         ...,\n",
       "         [0.38823529, 0.63137255, 0.63137255],\n",
       "         [0.18039216, 0.46666667, 0.45882353],\n",
       "         [0.19607843, 0.48235294, 0.4745098 ]],\n",
       "\n",
       "        [[0.36470588, 0.36470588, 0.41176471],\n",
       "         [0.35686275, 0.35686275, 0.40392157],\n",
       "         [0.36078431, 0.36078431, 0.40784314],\n",
       "         ...,\n",
       "         [0.21960784, 0.4       , 0.40392157],\n",
       "         [0.23921569, 0.38431373, 0.41960784],\n",
       "         [0.33333333, 0.4745098 , 0.51372549]],\n",
       "\n",
       "        ...,\n",
       "\n",
       "        [[0.36078431, 0.5372549 , 0.55686275],\n",
       "         [0.34509804, 0.43137255, 0.44705882],\n",
       "         [0.53333333, 0.77647059, 0.73333333],\n",
       "         ...,\n",
       "         [0.20784314, 0.39215686, 0.34509804],\n",
       "         [0.17254902, 0.32156863, 0.29803922],\n",
       "         [0.2627451 , 0.44313725, 0.41568627]],\n",
       "\n",
       "        [[0.01176471, 0.20392157, 0.20784314],\n",
       "         [0.35294118, 0.55686275, 0.5372549 ],\n",
       "         [0.03529412, 0.45098039, 0.36078431],\n",
       "         ...,\n",
       "         [0.1254902 , 0.30196078, 0.25490196],\n",
       "         [0.31764706, 0.47058824, 0.42745098],\n",
       "         [0.09411765, 0.28235294, 0.23137255]],\n",
       "\n",
       "        [[0.29019608, 0.55294118, 0.53333333],\n",
       "         [0.        , 0.57647059, 0.44705882],\n",
       "         [0.03529412, 0.6627451 , 0.50588235],\n",
       "         ...,\n",
       "         [0.09019608, 0.30588235, 0.23137255],\n",
       "         [0.16470588, 0.38039216, 0.31372549],\n",
       "         [0.09411765, 0.27058824, 0.23921569]]],\n",
       "\n",
       "\n",
       "       [[[0.30588235, 0.30196078, 0.28627451],\n",
       "         [0.30588235, 0.30196078, 0.28627451],\n",
       "         [0.29803922, 0.29411765, 0.27843137],\n",
       "         ...,\n",
       "         [0.4       , 0.46666667, 0.50196078],\n",
       "         [0.39215686, 0.45882353, 0.49411765],\n",
       "         [0.38431373, 0.44313725, 0.47843137]],\n",
       "\n",
       "        [[0.30588235, 0.30196078, 0.28627451],\n",
       "         [0.30588235, 0.30196078, 0.28627451],\n",
       "         [0.29803922, 0.29411765, 0.27843137],\n",
       "         ...,\n",
       "         [0.41176471, 0.47843137, 0.51372549],\n",
       "         [0.40392157, 0.47058824, 0.50588235],\n",
       "         [0.4       , 0.45882353, 0.49411765]],\n",
       "\n",
       "        [[0.30588235, 0.30196078, 0.28627451],\n",
       "         [0.30588235, 0.30196078, 0.28627451],\n",
       "         [0.30588235, 0.30196078, 0.28627451],\n",
       "         ...,\n",
       "         [0.41960784, 0.48627451, 0.52156863],\n",
       "         [0.41176471, 0.4745098 , 0.51372549],\n",
       "         [0.40784314, 0.46666667, 0.50196078]],\n",
       "\n",
       "        ...,\n",
       "\n",
       "        [[0.69803922, 0.36470588, 0.18431373],\n",
       "         [0.73333333, 0.38431373, 0.21176471],\n",
       "         [0.72156863, 0.35294118, 0.18431373],\n",
       "         ...,\n",
       "         [0.78823529, 0.78039216, 0.80392157],\n",
       "         [0.79607843, 0.78823529, 0.81176471],\n",
       "         [0.75686275, 0.76078431, 0.8       ]],\n",
       "\n",
       "        [[0.69411765, 0.35686275, 0.17254902],\n",
       "         [0.7372549 , 0.40392157, 0.25490196],\n",
       "         [0.74117647, 0.38039216, 0.21176471],\n",
       "         ...,\n",
       "         [0.87843137, 0.85098039, 0.87058824],\n",
       "         [0.84705882, 0.82745098, 0.8627451 ],\n",
       "         [0.79607843, 0.78823529, 0.83529412]],\n",
       "\n",
       "        [[0.68235294, 0.34509804, 0.16470588],\n",
       "         [0.69803922, 0.36470588, 0.21568627],\n",
       "         [0.71372549, 0.35294118, 0.18431373],\n",
       "         ...,\n",
       "         [0.8745098 , 0.84705882, 0.86666667],\n",
       "         [0.85490196, 0.83529412, 0.87058824],\n",
       "         [0.80784314, 0.8       , 0.84705882]]],\n",
       "\n",
       "\n",
       "       ...,\n",
       "\n",
       "\n",
       "       [[[0.23137255, 0.30588235, 0.34509804],\n",
       "         [0.16470588, 0.22352941, 0.23921569],\n",
       "         [0.09803922, 0.1372549 , 0.13333333],\n",
       "         ...,\n",
       "         [0.76470588, 0.72941176, 0.72941176],\n",
       "         [0.74509804, 0.70196078, 0.70980392],\n",
       "         [0.74901961, 0.69411765, 0.70980392]],\n",
       "\n",
       "        [[0.21960784, 0.29019608, 0.34509804],\n",
       "         [0.16470588, 0.22745098, 0.25490196],\n",
       "         [0.09803922, 0.14509804, 0.15294118],\n",
       "         ...,\n",
       "         [0.75294118, 0.73333333, 0.72941176],\n",
       "         [0.74509804, 0.72156863, 0.7254902 ],\n",
       "         [0.74901961, 0.70980392, 0.7254902 ]],\n",
       "\n",
       "        [[0.21568627, 0.30588235, 0.37254902],\n",
       "         [0.24313725, 0.31372549, 0.35686275],\n",
       "         [0.12156863, 0.17647059, 0.2       ],\n",
       "         ...,\n",
       "         [0.73333333, 0.7254902 , 0.72156863],\n",
       "         [0.67058824, 0.6627451 , 0.6627451 ],\n",
       "         [0.73333333, 0.7254902 , 0.73333333]],\n",
       "\n",
       "        ...,\n",
       "\n",
       "        [[0.30196078, 0.35294118, 0.40784314],\n",
       "         [0.27843137, 0.32941176, 0.38431373],\n",
       "         [0.27058824, 0.32156863, 0.37647059],\n",
       "         ...,\n",
       "         [0.67058824, 0.71372549, 0.70588235],\n",
       "         [0.68235294, 0.73333333, 0.72941176],\n",
       "         [0.62352941, 0.68235294, 0.6745098 ]],\n",
       "\n",
       "        [[0.30196078, 0.35294118, 0.40784314],\n",
       "         [0.28235294, 0.32941176, 0.38823529],\n",
       "         [0.27058824, 0.3254902 , 0.38039216],\n",
       "         ...,\n",
       "         [0.70980392, 0.74117647, 0.7372549 ],\n",
       "         [0.67843137, 0.72156863, 0.71372549],\n",
       "         [0.66666667, 0.71764706, 0.70980392]],\n",
       "\n",
       "        [[0.31764706, 0.36862745, 0.42352941],\n",
       "         [0.29411765, 0.34509804, 0.4       ],\n",
       "         [0.28627451, 0.3372549 , 0.39215686],\n",
       "         ...,\n",
       "         [0.65098039, 0.67058824, 0.6627451 ],\n",
       "         [0.71764706, 0.74509804, 0.73333333],\n",
       "         [0.68627451, 0.72156863, 0.70980392]]],\n",
       "\n",
       "\n",
       "       [[[0.11372549, 0.10980392, 0.11764706],\n",
       "         [0.09411765, 0.09019608, 0.09803922],\n",
       "         [0.08235294, 0.07843137, 0.08627451],\n",
       "         ...,\n",
       "         [0.16078431, 0.17647059, 0.15686275],\n",
       "         [0.14901961, 0.16470588, 0.14509804],\n",
       "         [0.16078431, 0.17647059, 0.15686275]],\n",
       "\n",
       "        [[0.07843137, 0.0745098 , 0.08235294],\n",
       "         [0.0745098 , 0.07058824, 0.07843137],\n",
       "         [0.07843137, 0.0745098 , 0.08235294],\n",
       "         ...,\n",
       "         [0.16078431, 0.14901961, 0.13333333],\n",
       "         [0.16078431, 0.14901961, 0.13333333],\n",
       "         [0.18823529, 0.17647059, 0.16078431]],\n",
       "\n",
       "        [[0.09411765, 0.09019608, 0.09803922],\n",
       "         [0.08235294, 0.07843137, 0.08627451],\n",
       "         [0.07843137, 0.0745098 , 0.08235294],\n",
       "         ...,\n",
       "         [0.18431373, 0.15686275, 0.14509804],\n",
       "         [0.18039216, 0.15294118, 0.14117647],\n",
       "         [0.19607843, 0.16862745, 0.15686275]],\n",
       "\n",
       "        ...,\n",
       "\n",
       "        [[0.30588235, 0.33333333, 0.4       ],\n",
       "         [0.19607843, 0.21176471, 0.28235294],\n",
       "         [0.30196078, 0.30980392, 0.38039216],\n",
       "         ...,\n",
       "         [0.38431373, 0.35686275, 0.34509804],\n",
       "         [0.42352941, 0.40784314, 0.39607843],\n",
       "         [0.37647059, 0.37254902, 0.35686275]],\n",
       "\n",
       "        [[0.03529412, 0.0627451 , 0.12156863],\n",
       "         [0.11764706, 0.1372549 , 0.19607843],\n",
       "         [0.25882353, 0.27058824, 0.32941176],\n",
       "         ...,\n",
       "         [0.62745098, 0.68235294, 0.70588235],\n",
       "         [0.63137255, 0.69803922, 0.70980392],\n",
       "         [0.64313725, 0.7254902 , 0.73333333]],\n",
       "\n",
       "        [[0.09803922, 0.12941176, 0.18039216],\n",
       "         [0.08235294, 0.10588235, 0.15686275],\n",
       "         [0.13333333, 0.14509804, 0.2       ],\n",
       "         ...,\n",
       "         [0.65882353, 0.76470588, 0.80392157],\n",
       "         [0.64705882, 0.76862745, 0.78823529],\n",
       "         [0.63137255, 0.76862745, 0.78039216]]],\n",
       "\n",
       "\n",
       "       [[[0.2       , 0.45882353, 0.34509804],\n",
       "         [0.28627451, 0.5372549 , 0.41960784],\n",
       "         [0.07843137, 0.32941176, 0.20392157],\n",
       "         ...,\n",
       "         [0.1372549 , 0.35686275, 0.31372549],\n",
       "         [0.20784314, 0.40784314, 0.36862745],\n",
       "         [0.3254902 , 0.51764706, 0.5254902 ]],\n",
       "\n",
       "        [[0.22745098, 0.48627451, 0.39607843],\n",
       "         [0.22745098, 0.45098039, 0.34901961],\n",
       "         [0.09803922, 0.28627451, 0.17647059],\n",
       "         ...,\n",
       "         [0.17254902, 0.4       , 0.35686275],\n",
       "         [0.18823529, 0.43137255, 0.38431373],\n",
       "         [0.12156863, 0.28235294, 0.25098039]],\n",
       "\n",
       "        [[0.15294118, 0.39607843, 0.34509804],\n",
       "         [0.11372549, 0.32156863, 0.24705882],\n",
       "         [0.15686275, 0.32156863, 0.22352941],\n",
       "         ...,\n",
       "         [0.16078431, 0.38039216, 0.3372549 ],\n",
       "         [0.16862745, 0.41568627, 0.36862745],\n",
       "         [0.39215686, 0.52941176, 0.49411765]],\n",
       "\n",
       "        ...,\n",
       "\n",
       "        [[0.11764706, 0.35294118, 0.31764706],\n",
       "         [0.23921569, 0.47058824, 0.43529412],\n",
       "         [0.29019608, 0.51372549, 0.47843137],\n",
       "         ...,\n",
       "         [0.26666667, 0.38039216, 0.40392157],\n",
       "         [0.25490196, 0.35294118, 0.36470588],\n",
       "         [0.26666667, 0.38431373, 0.41568627]],\n",
       "\n",
       "        [[0.09019608, 0.31372549, 0.29019608],\n",
       "         [0.14901961, 0.38039216, 0.34901961],\n",
       "         [0.18823529, 0.41176471, 0.38039216],\n",
       "         ...,\n",
       "         [0.31764706, 0.43921569, 0.43921569],\n",
       "         [0.49019608, 0.57254902, 0.56862745],\n",
       "         [0.32156863, 0.42352941, 0.43921569]],\n",
       "\n",
       "        [[0.14509804, 0.31764706, 0.29019608],\n",
       "         [0.09803922, 0.32941176, 0.29803922],\n",
       "         [0.10588235, 0.3372549 , 0.32156863],\n",
       "         ...,\n",
       "         [0.31764706, 0.45098039, 0.40784314],\n",
       "         [0.54117647, 0.59215686, 0.62352941],\n",
       "         [0.38039216, 0.44705882, 0.45882353]]]])"
      ]
     },
     "execution_count": 6,
     "metadata": {},
     "output_type": "execute_result"
    }
   ],
   "source": [
    "x"
   ]
  },
  {
   "cell_type": "code",
   "execution_count": 7,
   "metadata": {},
   "outputs": [
    {
     "data": {
      "text/plain": [
       "(67, 100, 100, 3)"
      ]
     },
     "execution_count": 7,
     "metadata": {},
     "output_type": "execute_result"
    }
   ],
   "source": [
    "x.shape"
   ]
  },
  {
   "cell_type": "code",
   "execution_count": 8,
   "metadata": {},
   "outputs": [],
   "source": [
    "#data augmentaion"
   ]
  },
  {
   "cell_type": "code",
   "execution_count": 9,
   "metadata": {},
   "outputs": [],
   "source": [
    "dataGen = ImageDataGenerator(width_shift_range=0.1,\n",
    "                             height_shift_range=0.1,\n",
    "                             zoom_range=0.2,\n",
    "                             shear_range=0.1,\n",
    "                             rotation_range=20,\n",
    "                             horizontal_flip= True)"
   ]
  },
  {
   "cell_type": "code",
   "execution_count": 10,
   "metadata": {},
   "outputs": [
    {
     "name": "stdout",
     "output_type": "stream",
     "text": [
      "Collecting keras-tuner\n",
      "  Downloading keras_tuner-1.1.3-py3-none-any.whl (135 kB)\n",
      "     ------------------------------------ 135.7/135.7 kB 473.4 kB/s eta 0:00:00\n",
      "Requirement already satisfied: numpy in c:\\users\\admin\\anaconda3\\envs\\tensorflow\\lib\\site-packages (from keras-tuner) (1.23.5)\n",
      "Requirement already satisfied: packaging in c:\\users\\admin\\anaconda3\\envs\\tensorflow\\lib\\site-packages (from keras-tuner) (22.0)\n",
      "Requirement already satisfied: tensorboard in c:\\users\\admin\\anaconda3\\envs\\tensorflow\\lib\\site-packages (from keras-tuner) (2.10.0)\n",
      "Requirement already satisfied: ipython in c:\\users\\admin\\anaconda3\\envs\\tensorflow\\lib\\site-packages (from keras-tuner) (8.7.0)\n",
      "Requirement already satisfied: requests in c:\\users\\admin\\anaconda3\\envs\\tensorflow\\lib\\site-packages (from keras-tuner) (2.28.1)\n",
      "Collecting kt-legacy\n",
      "  Downloading kt_legacy-1.0.4-py3-none-any.whl (9.6 kB)\n",
      "Requirement already satisfied: matplotlib-inline in c:\\users\\admin\\anaconda3\\envs\\tensorflow\\lib\\site-packages (from ipython->keras-tuner) (0.1.6)\n",
      "Requirement already satisfied: pickleshare in c:\\users\\admin\\anaconda3\\envs\\tensorflow\\lib\\site-packages (from ipython->keras-tuner) (0.7.5)\n",
      "Requirement already satisfied: prompt-toolkit<3.1.0,>=3.0.11 in c:\\users\\admin\\anaconda3\\envs\\tensorflow\\lib\\site-packages (from ipython->keras-tuner) (3.0.36)\n",
      "Requirement already satisfied: pygments>=2.4.0 in c:\\users\\admin\\anaconda3\\envs\\tensorflow\\lib\\site-packages (from ipython->keras-tuner) (2.11.2)\n",
      "Requirement already satisfied: traitlets>=5 in c:\\users\\admin\\anaconda3\\envs\\tensorflow\\lib\\site-packages (from ipython->keras-tuner) (5.7.1)\n",
      "Requirement already satisfied: decorator in c:\\users\\admin\\anaconda3\\envs\\tensorflow\\lib\\site-packages (from ipython->keras-tuner) (5.1.1)\n",
      "Requirement already satisfied: jedi>=0.16 in c:\\users\\admin\\anaconda3\\envs\\tensorflow\\lib\\site-packages (from ipython->keras-tuner) (0.18.1)\n",
      "Requirement already satisfied: backcall in c:\\users\\admin\\anaconda3\\envs\\tensorflow\\lib\\site-packages (from ipython->keras-tuner) (0.2.0)\n",
      "Requirement already satisfied: colorama in c:\\users\\admin\\anaconda3\\envs\\tensorflow\\lib\\site-packages (from ipython->keras-tuner) (0.4.6)\n",
      "Requirement already satisfied: stack-data in c:\\users\\admin\\anaconda3\\envs\\tensorflow\\lib\\site-packages (from ipython->keras-tuner) (0.2.0)\n",
      "Requirement already satisfied: charset-normalizer<3,>=2 in c:\\users\\admin\\anaconda3\\envs\\tensorflow\\lib\\site-packages (from requests->keras-tuner) (2.0.4)\n",
      "Requirement already satisfied: idna<4,>=2.5 in c:\\users\\admin\\anaconda3\\envs\\tensorflow\\lib\\site-packages (from requests->keras-tuner) (3.4)\n",
      "Requirement already satisfied: urllib3<1.27,>=1.21.1 in c:\\users\\admin\\anaconda3\\envs\\tensorflow\\lib\\site-packages (from requests->keras-tuner) (1.26.14)\n",
      "Requirement already satisfied: certifi>=2017.4.17 in c:\\users\\admin\\anaconda3\\envs\\tensorflow\\lib\\site-packages (from requests->keras-tuner) (2022.12.7)\n",
      "Requirement already satisfied: wheel>=0.26 in c:\\users\\admin\\anaconda3\\envs\\tensorflow\\lib\\site-packages (from tensorboard->keras-tuner) (0.37.1)\n",
      "Requirement already satisfied: setuptools>=41.0.0 in c:\\users\\admin\\anaconda3\\envs\\tensorflow\\lib\\site-packages (from tensorboard->keras-tuner) (65.6.3)\n",
      "Requirement already satisfied: werkzeug>=1.0.1 in c:\\users\\admin\\anaconda3\\envs\\tensorflow\\lib\\site-packages (from tensorboard->keras-tuner) (2.2.2)\n",
      "Requirement already satisfied: absl-py>=0.4 in c:\\users\\admin\\anaconda3\\envs\\tensorflow\\lib\\site-packages (from tensorboard->keras-tuner) (1.3.0)\n",
      "Requirement already satisfied: tensorboard-data-server<0.7.0,>=0.6.0 in c:\\users\\admin\\anaconda3\\envs\\tensorflow\\lib\\site-packages (from tensorboard->keras-tuner) (0.6.1)\n",
      "Requirement already satisfied: google-auth<3,>=1.6.3 in c:\\users\\admin\\anaconda3\\envs\\tensorflow\\lib\\site-packages (from tensorboard->keras-tuner) (2.6.0)\n",
      "Requirement already satisfied: markdown>=2.6.8 in c:\\users\\admin\\anaconda3\\envs\\tensorflow\\lib\\site-packages (from tensorboard->keras-tuner) (3.4.1)\n",
      "Collecting protobuf<3.20,>=3.9.2\n",
      "  Downloading protobuf-3.19.6-cp310-cp310-win_amd64.whl (895 kB)\n",
      "     ------------------------------------ 895.7/895.7 kB 308.0 kB/s eta 0:00:00\n",
      "Requirement already satisfied: tensorboard-plugin-wit>=1.6.0 in c:\\users\\admin\\anaconda3\\envs\\tensorflow\\lib\\site-packages (from tensorboard->keras-tuner) (1.8.1)\n",
      "Requirement already satisfied: google-auth-oauthlib<0.5,>=0.4.1 in c:\\users\\admin\\anaconda3\\envs\\tensorflow\\lib\\site-packages (from tensorboard->keras-tuner) (0.4.4)\n",
      "Requirement already satisfied: grpcio>=1.24.3 in c:\\users\\admin\\anaconda3\\envs\\tensorflow\\lib\\site-packages (from tensorboard->keras-tuner) (1.42.0)\n",
      "Requirement already satisfied: pyasn1-modules>=0.2.1 in c:\\users\\admin\\anaconda3\\envs\\tensorflow\\lib\\site-packages (from google-auth<3,>=1.6.3->tensorboard->keras-tuner) (0.2.8)\n",
      "Requirement already satisfied: rsa<5,>=3.1.4 in c:\\users\\admin\\anaconda3\\envs\\tensorflow\\lib\\site-packages (from google-auth<3,>=1.6.3->tensorboard->keras-tuner) (4.7.2)\n",
      "Requirement already satisfied: cachetools<6.0,>=2.0.0 in c:\\users\\admin\\anaconda3\\envs\\tensorflow\\lib\\site-packages (from google-auth<3,>=1.6.3->tensorboard->keras-tuner) (4.2.2)\n",
      "Requirement already satisfied: six>=1.9.0 in c:\\users\\admin\\anaconda3\\envs\\tensorflow\\lib\\site-packages (from google-auth<3,>=1.6.3->tensorboard->keras-tuner) (1.16.0)\n",
      "Requirement already satisfied: requests-oauthlib>=0.7.0 in c:\\users\\admin\\anaconda3\\envs\\tensorflow\\lib\\site-packages (from google-auth-oauthlib<0.5,>=0.4.1->tensorboard->keras-tuner) (1.3.0)\n",
      "Requirement already satisfied: parso<0.9.0,>=0.8.0 in c:\\users\\admin\\anaconda3\\envs\\tensorflow\\lib\\site-packages (from jedi>=0.16->ipython->keras-tuner) (0.8.3)\n",
      "Requirement already satisfied: wcwidth in c:\\users\\admin\\anaconda3\\envs\\tensorflow\\lib\\site-packages (from prompt-toolkit<3.1.0,>=3.0.11->ipython->keras-tuner) (0.2.5)\n",
      "Requirement already satisfied: MarkupSafe>=2.1.1 in c:\\users\\admin\\anaconda3\\envs\\tensorflow\\lib\\site-packages (from werkzeug>=1.0.1->tensorboard->keras-tuner) (2.1.1)\n",
      "Requirement already satisfied: pure-eval in c:\\users\\admin\\anaconda3\\envs\\tensorflow\\lib\\site-packages (from stack-data->ipython->keras-tuner) (0.2.2)\n",
      "Requirement already satisfied: executing in c:\\users\\admin\\anaconda3\\envs\\tensorflow\\lib\\site-packages (from stack-data->ipython->keras-tuner) (0.8.3)\n",
      "Requirement already satisfied: asttokens in c:\\users\\admin\\anaconda3\\envs\\tensorflow\\lib\\site-packages (from stack-data->ipython->keras-tuner) (2.0.5)\n",
      "Requirement already satisfied: pyasn1<0.5.0,>=0.4.6 in c:\\users\\admin\\anaconda3\\envs\\tensorflow\\lib\\site-packages (from pyasn1-modules>=0.2.1->google-auth<3,>=1.6.3->tensorboard->keras-tuner) (0.4.8)\n",
      "Requirement already satisfied: oauthlib>=3.0.0 in c:\\users\\admin\\anaconda3\\envs\\tensorflow\\lib\\site-packages (from requests-oauthlib>=0.7.0->google-auth-oauthlib<0.5,>=0.4.1->tensorboard->keras-tuner) (3.2.1)\n",
      "Installing collected packages: kt-legacy, protobuf, keras-tuner\n",
      "  Attempting uninstall: protobuf\n",
      "    Found existing installation: protobuf 3.20.1\n",
      "    Uninstalling protobuf-3.20.1:\n",
      "      Successfully uninstalled protobuf-3.20.1\n",
      "Successfully installed keras-tuner-1.1.3 kt-legacy-1.0.4 protobuf-3.19.6\n",
      "Note: you may need to restart the kernel to use updated packages.\n"
     ]
    },
    {
     "name": "stderr",
     "output_type": "stream",
     "text": [
      "ERROR: pip's dependency resolver does not currently take into account all the packages that are installed. This behaviour is the source of the following dependency conflicts.\n",
      "tensorflow 2.10.0 requires libclang>=13.0.0, which is not installed.\n",
      "tensorflow 2.10.0 requires tensorflow-io-gcs-filesystem>=0.23.1, which is not installed.\n"
     ]
    }
   ],
   "source": [
    "pip install keras-tuner"
   ]
  },
  {
   "cell_type": "code",
   "execution_count": 11,
   "metadata": {},
   "outputs": [
    {
     "name": "stdout",
     "output_type": "stream",
     "text": [
      "2.10.0\n"
     ]
    }
   ],
   "source": [
    "import tensorflow as tf\n",
    "from tensorflow import keras\n",
    "import numpy as np\n",
    "print(tf.__version__)\n",
    "from tensorflow.keras.models import Sequential\n",
    "from tensorflow.keras.layers import Dense,Dropout, Activation, Flatten, Conv2D, MaxPooling2D"
   ]
  },
  {
   "cell_type": "code",
   "execution_count": 12,
   "metadata": {},
   "outputs": [
    {
     "data": {
      "text/plain": [
       "array([[[0.23137255, 0.19215686, 0.36078431],\n",
       "        [0.34117647, 0.31764706, 0.41176471],\n",
       "        [0.63529412, 0.63529412, 0.61568627],\n",
       "        ...,\n",
       "        [0.48627451, 0.48627451, 0.50588235],\n",
       "        [0.48235294, 0.47058824, 0.49411765],\n",
       "        [0.42352941, 0.40392157, 0.42352941]],\n",
       "\n",
       "       [[0.23137255, 0.19607843, 0.38431373],\n",
       "        [0.28235294, 0.2627451 , 0.37254902],\n",
       "        [0.6       , 0.6       , 0.6       ],\n",
       "        ...,\n",
       "        [0.49019608, 0.48627451, 0.50980392],\n",
       "        [0.45098039, 0.43921569, 0.4627451 ],\n",
       "        [0.43529412, 0.41176471, 0.43137255]],\n",
       "\n",
       "       [[0.22352941, 0.19607843, 0.40392157],\n",
       "        [0.23529412, 0.21960784, 0.35686275],\n",
       "        [0.5254902 , 0.52156863, 0.55686275],\n",
       "        ...,\n",
       "        [0.49411765, 0.48235294, 0.50588235],\n",
       "        [0.43921569, 0.42352941, 0.44705882],\n",
       "        [0.45098039, 0.42745098, 0.44705882]],\n",
       "\n",
       "       ...,\n",
       "\n",
       "       [[0.34509804, 0.30980392, 0.29803922],\n",
       "        [0.34509804, 0.29019608, 0.27058824],\n",
       "        [0.36862745, 0.28627451, 0.25490196],\n",
       "        ...,\n",
       "        [0.43137255, 0.29019608, 0.24705882],\n",
       "        [0.35686275, 0.23529412, 0.19215686],\n",
       "        [0.38431373, 0.27058824, 0.22745098]],\n",
       "\n",
       "       [[0.25882353, 0.21960784, 0.20392157],\n",
       "        [0.28627451, 0.22745098, 0.20392157],\n",
       "        [0.34509804, 0.25882353, 0.22352941],\n",
       "        ...,\n",
       "        [0.43921569, 0.27843137, 0.22745098],\n",
       "        [0.38039216, 0.23137255, 0.18039216],\n",
       "        [0.41176471, 0.27058824, 0.21568627]],\n",
       "\n",
       "       [[0.27843137, 0.23137255, 0.21176471],\n",
       "        [0.28627451, 0.22352941, 0.19607843],\n",
       "        [0.30980392, 0.21960784, 0.18039216],\n",
       "        ...,\n",
       "        [0.44313725, 0.27058824, 0.20392157],\n",
       "        [0.41960784, 0.25490196, 0.18823529],\n",
       "        [0.44705882, 0.29019608, 0.22352941]]])"
      ]
     },
     "execution_count": 12,
     "metadata": {},
     "output_type": "execute_result"
    }
   ],
   "source": [
    "x[0]"
   ]
  },
  {
   "cell_type": "code",
   "execution_count": 13,
   "metadata": {},
   "outputs": [
    {
     "data": {
      "text/plain": [
       "(100, 100, 3)"
      ]
     },
     "execution_count": 13,
     "metadata": {},
     "output_type": "execute_result"
    }
   ],
   "source": [
    "x[0].shape"
   ]
  },
  {
   "cell_type": "code",
   "execution_count": 14,
   "metadata": {},
   "outputs": [],
   "source": [
    "model= Sequential()\n",
    "model.add(Conv2D(64, (3,3),input_shape=x.shape[1:], activation= 'relu'))\n",
    "model.add(MaxPooling2D(pool_size=(2,2)))\n",
    "\n",
    "model.add(Conv2D(64,(3,3),activation='relu'))\n",
    "model.add(MaxPooling2D(pool_size=(2,2)))\n",
    "\n",
    "model.add(Flatten())\n",
    "model.add(Dense(128,input_shape=x.shape[1:], activation='relu'))\n",
    "\n",
    "model.add(Dense(2,activation='softmax'))\n",
    "          "
   ]
  },
  {
   "cell_type": "code",
   "execution_count": 15,
   "metadata": {},
   "outputs": [],
   "source": [
    "model.compile(loss=\"sparse_categorical_crossentropy\",\n",
    "             optimizer =\"adam\",\n",
    "             metrics =['accuracy'])\n"
   ]
  },
  {
   "cell_type": "code",
   "execution_count": 16,
   "metadata": {},
   "outputs": [
    {
     "name": "stdout",
     "output_type": "stream",
     "text": [
      "Epoch 1/20\n",
      "2/2 [==============================] - 2s 826ms/step - loss: 1.6759 - accuracy: 0.5833 - val_loss: 0.6675 - val_accuracy: 0.5714\n",
      "Epoch 2/20\n",
      "2/2 [==============================] - 1s 398ms/step - loss: 0.9069 - accuracy: 0.5000 - val_loss: 0.7703 - val_accuracy: 0.4286\n",
      "Epoch 3/20\n",
      "2/2 [==============================] - 1s 357ms/step - loss: 0.7046 - accuracy: 0.4833 - val_loss: 0.7105 - val_accuracy: 0.5714\n",
      "Epoch 4/20\n",
      "2/2 [==============================] - 1s 364ms/step - loss: 0.5943 - accuracy: 0.6333 - val_loss: 0.7020 - val_accuracy: 0.5714\n",
      "Epoch 5/20\n",
      "2/2 [==============================] - 1s 381ms/step - loss: 0.5453 - accuracy: 0.6500 - val_loss: 0.6988 - val_accuracy: 0.5714\n",
      "Epoch 6/20\n",
      "2/2 [==============================] - 1s 396ms/step - loss: 0.5200 - accuracy: 0.6500 - val_loss: 0.6652 - val_accuracy: 0.5714\n",
      "Epoch 7/20\n",
      "2/2 [==============================] - 1s 382ms/step - loss: 0.4545 - accuracy: 0.8667 - val_loss: 0.6514 - val_accuracy: 0.5714\n",
      "Epoch 8/20\n",
      "2/2 [==============================] - 1s 402ms/step - loss: 0.3602 - accuracy: 0.9000 - val_loss: 0.8601 - val_accuracy: 0.5714\n",
      "Epoch 9/20\n",
      "2/2 [==============================] - 1s 450ms/step - loss: 0.3486 - accuracy: 0.7333 - val_loss: 0.6396 - val_accuracy: 0.5714\n",
      "Epoch 10/20\n",
      "2/2 [==============================] - 1s 448ms/step - loss: 0.3227 - accuracy: 0.9500 - val_loss: 0.6594 - val_accuracy: 0.5714\n",
      "Epoch 11/20\n",
      "2/2 [==============================] - 1s 444ms/step - loss: 0.2182 - accuracy: 0.9500 - val_loss: 0.9817 - val_accuracy: 0.5714\n",
      "Epoch 12/20\n",
      "2/2 [==============================] - 1s 534ms/step - loss: 0.2106 - accuracy: 0.9667 - val_loss: 0.7042 - val_accuracy: 0.5714\n",
      "Epoch 13/20\n",
      "2/2 [==============================] - 1s 561ms/step - loss: 0.1533 - accuracy: 0.9833 - val_loss: 0.7027 - val_accuracy: 0.7143\n",
      "Epoch 14/20\n",
      "2/2 [==============================] - 1s 384ms/step - loss: 0.1050 - accuracy: 1.0000 - val_loss: 0.9648 - val_accuracy: 0.4286\n",
      "Epoch 15/20\n",
      "2/2 [==============================] - 1s 397ms/step - loss: 0.0938 - accuracy: 0.9833 - val_loss: 0.7721 - val_accuracy: 0.5714\n",
      "Epoch 16/20\n",
      "2/2 [==============================] - 1s 394ms/step - loss: 0.0484 - accuracy: 1.0000 - val_loss: 0.7438 - val_accuracy: 0.7143\n",
      "Epoch 17/20\n",
      "2/2 [==============================] - 1s 398ms/step - loss: 0.0507 - accuracy: 1.0000 - val_loss: 0.7906 - val_accuracy: 0.7143\n",
      "Epoch 18/20\n",
      "2/2 [==============================] - 1s 414ms/step - loss: 0.0272 - accuracy: 1.0000 - val_loss: 0.9846 - val_accuracy: 0.4286\n",
      "Epoch 19/20\n",
      "2/2 [==============================] - 1s 370ms/step - loss: 0.0226 - accuracy: 1.0000 - val_loss: 0.7906 - val_accuracy: 0.7143\n",
      "Epoch 20/20\n",
      "2/2 [==============================] - 1s 385ms/step - loss: 0.0143 - accuracy: 1.0000 - val_loss: 0.7641 - val_accuracy: 0.7143\n"
     ]
    },
    {
     "data": {
      "text/plain": [
       "<keras.callbacks.History at 0x15b2ea6e6b0>"
      ]
     },
     "execution_count": 16,
     "metadata": {},
     "output_type": "execute_result"
    }
   ],
   "source": [
    "model.fit(x,y, epochs=20,validation_split=0.1)"
   ]
  },
  {
   "cell_type": "code",
   "execution_count": 17,
   "metadata": {},
   "outputs": [],
   "source": [
    "model_name=\"cat_and_dog_own_data_four.h5\"\n",
    "model.save(model_name)"
   ]
  },
  {
   "cell_type": "code",
   "execution_count": 18,
   "metadata": {},
   "outputs": [
    {
     "data": {
      "text/plain": [
       "<keras.engine.sequential.Sequential at 0x15b2ea6d360>"
      ]
     },
     "execution_count": 18,
     "metadata": {},
     "output_type": "execute_result"
    }
   ],
   "source": [
    "from tensorflow.keras.models import load_model\n",
    "load_model(model_name)"
   ]
  },
  {
   "cell_type": "code",
   "execution_count": 37,
   "metadata": {},
   "outputs": [
    {
     "name": "stdout",
     "output_type": "stream",
     "text": [
      "1/1 [==============================] - 0s 219ms/step\n",
      "[[0. 1.]]\n",
      "dog\n"
     ]
    }
   ],
   "source": [
    "import keras.utils as image\n",
    "import numpy as np\n",
    "\n",
    "img_pred=image.load_img(r\"C:\\Users\\ADMIN\\Desktop\\IMAGE CLASSIFICATION USING CNN KERAS\\CAT\\Cat-vs-Dog-identificaton-using-CNN-main\\own_dataset\\dog\\dog.7306.jpg\",target_size=(100,100))\n",
    "\n",
    "img_pred=image.img_to_array(img_pred)\n",
    "img_pred=np.expand_dims(img_pred, axis=0)\n",
    "rslt= model.predict(img_pred)\n",
    "\n",
    "print(rslt)\n",
    "if rslt[0][0]>rslt[0][1]:\n",
    "    prediction=\"cat\"\n",
    "    \n",
    "    \n",
    "else:\n",
    "    prediction=\"dog\"\n",
    "print(prediction)\n"
   ]
  },
  {
   "cell_type": "code",
   "execution_count": 38,
   "metadata": {},
   "outputs": [],
   "source": [
    "#checking my main model size\n"
   ]
  },
  {
   "cell_type": "code",
   "execution_count": 39,
   "metadata": {},
   "outputs": [
    {
     "name": "stdout",
     "output_type": "stream",
     "text": [
      "File size:50.086Megabytes\n"
     ]
    }
   ],
   "source": [
    "import os\n",
    "def get_file_size(file_path):\n",
    "    size= os.path.getsize(file_path)\n",
    "    return size\n",
    "def convert_bytes(size, unit=None):\n",
    "    if unit== \"KB\":\n",
    "        return print ('File size:' +str(round(size/1024,3)) +'kilobytes')\n",
    "    elif unit==\"MB\":\n",
    "         return print ('File size:' +str(round(size/(1024*1024),3)) +'Megabytes')\n",
    "    else:\n",
    "         return print ('File size:' +str(size) +'bytes')\n",
    "convert_bytes(get_file_size(model_name),\"MB\")"
   ]
  },
  {
   "cell_type": "raw",
   "metadata": {},
   "source": []
  },
  {
   "cell_type": "code",
   "execution_count": 40,
   "metadata": {},
   "outputs": [],
   "source": [
    "tf_lite_model=\"second_tflite.tflite\""
   ]
  },
  {
   "cell_type": "code",
   "execution_count": 41,
   "metadata": {},
   "outputs": [
    {
     "name": "stderr",
     "output_type": "stream",
     "text": [
      "WARNING:absl:Found untraced functions such as _jit_compiled_convolution_op, _jit_compiled_convolution_op while saving (showing 2 of 2). These functions will not be directly callable after loading.\n"
     ]
    },
    {
     "name": "stdout",
     "output_type": "stream",
     "text": [
      "INFO:tensorflow:Assets written to: C:\\Users\\ADMIN\\AppData\\Local\\Temp\\tmpxwy105fs\\assets\n"
     ]
    },
    {
     "name": "stderr",
     "output_type": "stream",
     "text": [
      "INFO:tensorflow:Assets written to: C:\\Users\\ADMIN\\AppData\\Local\\Temp\\tmpxwy105fs\\assets\n"
     ]
    }
   ],
   "source": [
    "tf_lite_converter=tf.lite.TFLiteConverter.from_keras_model(model)\n",
    "tflite_model=tf_lite_converter.convert()"
   ]
  },
  {
   "cell_type": "code",
   "execution_count": 42,
   "metadata": {},
   "outputs": [],
   "source": [
    "#save the model in memory\n",
    "\n"
   ]
  },
  {
   "cell_type": "code",
   "execution_count": 43,
   "metadata": {},
   "outputs": [
    {
     "data": {
      "text/plain": [
       "17494124"
      ]
     },
     "execution_count": 43,
     "metadata": {},
     "output_type": "execute_result"
    }
   ],
   "source": [
    "tflite_model_name= tf_lite_model\n",
    "open(tflite_model_name, \"wb\").write(tflite_model)"
   ]
  },
  {
   "cell_type": "code",
   "execution_count": 44,
   "metadata": {},
   "outputs": [
    {
     "name": "stdout",
     "output_type": "stream",
     "text": [
      "File size:16.684Megabytes\n"
     ]
    }
   ],
   "source": [
    "convert_bytes(get_file_size(tf_lite_model),\"MB\")"
   ]
  },
  {
   "cell_type": "code",
   "execution_count": 45,
   "metadata": {},
   "outputs": [],
   "source": [
    "#evaluate my tflite mode;"
   ]
  },
  {
   "cell_type": "code",
   "execution_count": 46,
   "metadata": {},
   "outputs": [
    {
     "name": "stdout",
     "output_type": "stream",
     "text": [
      "input shape: [  1 100 100   3]\n",
      "input type: <class 'numpy.float32'>\n",
      "output shape: [1 2]\n",
      "output shape: <class 'numpy.float32'>\n"
     ]
    }
   ],
   "source": [
    "interpreter =tf.lite.Interpreter(model_path=tf_lite_model)\n",
    "input_details=interpreter.get_input_details()\n",
    "output_details=interpreter.get_output_details()\n",
    "print(\"input shape:\",input_details[0]['shape'])\n",
    "print(\"input type:\",input_details[0]['dtype'])\n",
    "print(\"output shape:\",output_details[0]['shape'])\n",
    "print(\"output shape:\",output_details[0]['dtype'])"
   ]
  },
  {
   "cell_type": "code",
   "execution_count": 47,
   "metadata": {},
   "outputs": [],
   "source": [
    "#making quantized model"
   ]
  },
  {
   "cell_type": "code",
   "execution_count": 48,
   "metadata": {},
   "outputs": [],
   "source": [
    "tf_lite_model_quantized=\"second_quantized_tflite.tflite\""
   ]
  },
  {
   "cell_type": "code",
   "execution_count": 49,
   "metadata": {},
   "outputs": [
    {
     "name": "stderr",
     "output_type": "stream",
     "text": [
      "WARNING:absl:Found untraced functions such as _jit_compiled_convolution_op, _jit_compiled_convolution_op while saving (showing 2 of 2). These functions will not be directly callable after loading.\n"
     ]
    },
    {
     "name": "stdout",
     "output_type": "stream",
     "text": [
      "INFO:tensorflow:Assets written to: C:\\Users\\ADMIN\\AppData\\Local\\Temp\\tmpaojiuu_q\\assets\n"
     ]
    },
    {
     "name": "stderr",
     "output_type": "stream",
     "text": [
      "INFO:tensorflow:Assets written to: C:\\Users\\ADMIN\\AppData\\Local\\Temp\\tmpaojiuu_q\\assets\n"
     ]
    }
   ],
   "source": [
    "tf_lite_converter=tf.lite.TFLiteConverter.from_keras_model(model)\n",
    "\n",
    "tf_lite_converter.optimizations=[tf.lite.Optimize.DEFAULT]\n",
    "tf_lite_converter.target_spec.supported_types=[tf.float16]\n",
    "tflite_model=tf_lite_converter.convert()"
   ]
  },
  {
   "cell_type": "code",
   "execution_count": 50,
   "metadata": {},
   "outputs": [
    {
     "name": "stdout",
     "output_type": "stream",
     "text": [
      "2.10.0\n"
     ]
    }
   ],
   "source": [
    "print (tf.__version__)"
   ]
  },
  {
   "cell_type": "code",
   "execution_count": 51,
   "metadata": {},
   "outputs": [
    {
     "data": {
      "text/plain": [
       "8749916"
      ]
     },
     "execution_count": 51,
     "metadata": {},
     "output_type": "execute_result"
    }
   ],
   "source": [
    "tflite_model_name= tf_lite_model_quantized\n",
    "open(tflite_model_name, \"wb\").write(tflite_model)"
   ]
  },
  {
   "cell_type": "code",
   "execution_count": 52,
   "metadata": {},
   "outputs": [
    {
     "name": "stdout",
     "output_type": "stream",
     "text": [
      "File size:8.345Megabytes\n"
     ]
    }
   ],
   "source": [
    "convert_bytes(get_file_size(tf_lite_model_quantized),\"MB\")"
   ]
  }
 ],
 "metadata": {
  "kernelspec": {
   "display_name": "Python 3 (ipykernel)",
   "language": "python",
   "name": "python3"
  },
  "language_info": {
   "codemirror_mode": {
    "name": "ipython",
    "version": 3
   },
   "file_extension": ".py",
   "mimetype": "text/x-python",
   "name": "python",
   "nbconvert_exporter": "python",
   "pygments_lexer": "ipython3",
   "version": "3.10.9"
  }
 },
 "nbformat": 4,
 "nbformat_minor": 4
}
